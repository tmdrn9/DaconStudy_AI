{
  "nbformat": 4,
  "nbformat_minor": 0,
  "metadata": {
    "colab": {
      "name": "신용카드 사용자 연체 예측 AI 경진대회.ipynb",
      "provenance": [],
      "collapsed_sections": []
    },
    "kernelspec": {
      "name": "python3",
      "display_name": "Python 3"
    },
    "language_info": {
      "name": "python"
    }
  },
  "cells": [
    {
      "cell_type": "markdown",
      "metadata": {
        "id": "NA6mZabW5E2K"
      },
      "source": [
        "# **신용카드 사용자 연체 예측 AI 경진대회**\n",
        "\n",
        "1 RandomForest에 GridSearchCV로 파라미터 튜닝\n",
        "\n",
        "2 XGBoost 모델에 BayesianOptimization로 파라미터 튜닝\n",
        "<br><br>\n",
        "참고\n",
        "\n",
        "-데이콘 코드공유 : https://dacon.io/competitions/official/235713/codeshare/2476?page=1&dtype=recent"
      ]
    },
    {
      "cell_type": "code",
      "metadata": {
        "id": "C8beAjvvwv27"
      },
      "source": [
        "'''메인 라이브러리'''\n",
        "import numpy as np\n",
        "import pandas as pd\n",
        "import os\n",
        "\n",
        "'''시각화 관련 라이브러리'''\n",
        "import matplotlib.pyplot as plt\n",
        "import seaborn as sns\n",
        "import matplotlib as mpl\n",
        "\n",
        "%matplotlib inline\n",
        "\n",
        "'''데이터 준비 관련 라이브러'''\n",
        "from sklearn import preprocessing as pp \n",
        "from scipy.stats import pearsonr \n",
        "from sklearn.model_selection import train_test_split\n",
        "from sklearn.model_selection import StratifiedKFold \n",
        "from sklearn.metrics import log_loss \n",
        "from sklearn.metrics import precision_recall_curve, average_precision_score \n",
        "from sklearn.preprocessing import OneHotEncoder\n",
        " \n",
        "\n",
        "'''알고리즘 관련 라이브러'''\n",
        "from sklearn.linear_model import LogisticRegression\n",
        "from sklearn.ensemble import RandomForestClassifier\n",
        "import xgboost as xgb"
      ],
      "execution_count": 8,
      "outputs": []
    },
    {
      "cell_type": "code",
      "metadata": {
        "colab": {
          "base_uri": "https://localhost:8080/"
        },
        "id": "zg1Iq70ExBqx",
        "outputId": "841a1c52-8faa-4d09-b843-167ce4890c37"
      },
      "source": [
        "from google.colab import drive\n",
        "drive.mount._DEBUG = True\n",
        "drive.mount('/content/drive', force_remount=True)"
      ],
      "execution_count": 3,
      "outputs": [
        {
          "output_type": "stream",
          "text": [
            "unset HISTFILE; export PS1=\"root@60dc80e44a8a-d50f72ba22714528b501b5ab1ba432fc: \"\n",
            "bash: cannot set terminal process group (-1): Inappropriate ioctl for device\n",
            "bash: no job control in this shell\n",
            "\u001b[01;34m/content\u001b[00m# root@60dc80e44a8a-d50f72ba22714528b501b5ab1ba432fc: umount -f /content/drive || umount /content/drive; pkill -9 -x drive\n",
            "umount: /content/drive: no mount point specified.\n",
            "umount: /content/drive: no mount point specified.\n",
            "root@60dc80e44a8a-d50f72ba22714528b501b5ab1ba432fc: pkill -9 -f /opt/google/drive/directoryprefetcher_binary\n",
            "root@60dc80e44a8a-d50f72ba22714528b501b5ab1ba432fc: ( while `sleep 0.5`; do if [[ -d \"/content/drive\" && \"$(ls -A /content/drive)\" != \"\" ]]; then echo \"google.colab.drive MOUNTED\"; break; fi; done ) &\n",
            "[1] 125\n",
            "root@60dc80e44a8a-d50f72ba22714528b501b5ab1ba432fc: cat /tmp/tmps40yp8wr/drive.fifo | head -1 | ( /opt/google/drive/drive --features=fuse_max_background:1000,max_read_qps:1000,max_write_qps:1000,max_operation_batch_size:15,max_parallel_push_task_instances:10,opendir_timeout_ms:120000,virtual_folders_omit_spaces:true --inet_family=IPV4_ONLY --preferences=trusted_root_certs_file_path:/opt/google/drive/roots.pem,mount_point_path:/content/drive --console_auth 2>&1 | grep --line-buffered -E \"(Go to this URL in a browser: https://.*)$|Drive File Stream encountered a problem and has stopped|Authorization failed|The domain policy has disabled Drive File Stream\"; echo \"drive EXITED\"; ) &\n",
            "[2] 128\n",
            "root@60dc80e44a8a-d50f72ba22714528b501b5ab1ba432fc: Go to this URL in a browser: https://accounts.google.com/o/oauth2/auth?client_id=947318989803-6bn6qk8qdgf4n4g3pfee6491hc0brc4i.apps.googleusercontent.com&redirect_uri=urn%3aietf%3awg%3aoauth%3a2.0%3aoob&scope=email%20https%3a%2f%2fwww.googleapis.com%2fauth%2fdocs.test%20https%3a%2f%2fwww.googleapis.com%2fauth%2fdrive%20https%3a%2f%2fwww.googleapis.com%2fauth%2fdrive.photos.readonly%20https%3a%2f%2fwww.googleapis.com%2fauth%2fpeopleapi.readonly%20https%3a%2f%2fwww.googleapis.com%2fauth%2fdrive.activity.readonly%20https%3a%2f%2fwww.googleapis.com%2fauth%2fexperimentsandconfigs%20https%3a%2f%2fwww.googleapis.com%2fauth%2fphotos.native&response_type=code\n",
            "google.colab.drive MOUNTED\n",
            "fuser -kw \"/root/.config/Google/DriveFS/Logs/timeouts.txt\" ; rm -rf \"/root/.config/Google/DriveFS/Logs/timeouts.txt\"\n",
            "Specified filename /root/.config/Google/DriveFS/Logs/timeouts.txt does not exist.\n",
            "root@60dc80e44a8a-d50f72ba22714528b501b5ab1ba432fc: nohup bash -c 'tail -n +0 -F \"/root/.config/Google/DriveFS/Logs/drive_fs.txt\" | python3 /opt/google/drive/drive-filter.py > \"/root/.config/Google/DriveFS/Logs/timeouts.txt\" ' < /dev/null > /dev/null 2>&1 &\n",
            "[3] 264\n",
            "root@60dc80e44a8a-d50f72ba22714528b501b5ab1ba432fc: disown -a\n",
            "root@60dc80e44a8a-d50f72ba22714528b501b5ab1ba432fc: exit\n",
            "Mounted at /content/drive\n"
          ],
          "name": "stdout"
        }
      ]
    },
    {
      "cell_type": "code",
      "metadata": {
        "id": "qE6UWgvaxBhD",
        "colab": {
          "base_uri": "https://localhost:8080/",
          "height": 170
        },
        "outputId": "3173717e-dd07-417e-d03a-73788f3a87aa"
      },
      "source": [
        "os.chdir('./drive/MyDrive/dacon study/신용카드/')"
      ],
      "execution_count": 37,
      "outputs": [
        {
          "output_type": "error",
          "ename": "FileNotFoundError",
          "evalue": "ignored",
          "traceback": [
            "\u001b[0;31m---------------------------------------------------------------------------\u001b[0m",
            "\u001b[0;31mFileNotFoundError\u001b[0m                         Traceback (most recent call last)",
            "\u001b[0;32m<ipython-input-37-31ce48e20741>\u001b[0m in \u001b[0;36m<module>\u001b[0;34m()\u001b[0m\n\u001b[0;32m----> 1\u001b[0;31m \u001b[0mos\u001b[0m\u001b[0;34m.\u001b[0m\u001b[0mchdir\u001b[0m\u001b[0;34m(\u001b[0m\u001b[0;34m'./drive/MyDrive/dacon study/신용카드/'\u001b[0m\u001b[0;34m)\u001b[0m\u001b[0;34m\u001b[0m\u001b[0;34m\u001b[0m\u001b[0m\n\u001b[0m",
            "\u001b[0;31mFileNotFoundError\u001b[0m: [Errno 2] No such file or directory: './drive/MyDrive/dacon study/신용카드/'"
          ]
        }
      ]
    },
    {
      "cell_type": "code",
      "metadata": {
        "id": "_9iPYZ4PVfFs"
      },
      "source": [
        "train = pd.read_csv('train.csv')\n",
        "train = train.drop(['index'], axis=1)\n",
        "train.fillna('NAN', inplace=True) \n",
        "\n",
        "\n",
        "test = pd.read_csv('test.csv')\n",
        "test = test.drop(['index'], axis=1)\n",
        "test.fillna('NAN', inplace=True)\n",
        "\n",
        "submission=pd.read_csv('sample_submission.csv')#랜덤포레스트\n",
        "submission2=pd.read_csv('sample_submission.csv')#xgboost"
      ],
      "execution_count": 38,
      "outputs": []
    },
    {
      "cell_type": "code",
      "metadata": {
        "id": "JMl8A44HV2Fm"
      },
      "source": [
        "object_col = []\n",
        "for col in train.columns:\n",
        "    if train[col].dtype == 'object':\n",
        "        object_col.append(col)"
      ],
      "execution_count": 39,
      "outputs": []
    },
    {
      "cell_type": "code",
      "metadata": {
        "id": "4Xs4KF-0V2B3"
      },
      "source": [
        "enc = OneHotEncoder()\n",
        "enc.fit(train.loc[:,object_col])\n",
        "\n",
        "\n",
        "train_onehot_df = pd.DataFrame(enc.transform(train.loc[:,object_col]).toarray(), \n",
        "             columns=enc.get_feature_names(object_col))\n",
        "train.drop(object_col, axis=1, inplace=True)\n",
        "train = pd.concat([train, train_onehot_df], axis=1)"
      ],
      "execution_count": 9,
      "outputs": []
    },
    {
      "cell_type": "code",
      "metadata": {
        "id": "PTir9W8gV1_T"
      },
      "source": [
        "test_onehot_df = pd.DataFrame(enc.transform(test.loc[:,object_col]).toarray(), \n",
        "             columns=enc.get_feature_names(object_col))\n",
        "test.drop(object_col, axis=1, inplace=True)\n",
        "test = pd.concat([test, test_onehot_df], axis=1)"
      ],
      "execution_count": 10,
      "outputs": []
    },
    {
      "cell_type": "markdown",
      "metadata": {
        "id": "C8yCD5uAOICH"
      },
      "source": [
        "모델링"
      ]
    },
    {
      "cell_type": "code",
      "metadata": {
        "id": "HcZ3qYZI1VdU"
      },
      "source": [
        "train_x=train.drop('credit', axis=1)\n",
        "train_y=train[['credit']]\n",
        "test_x=test"
      ],
      "execution_count": 11,
      "outputs": []
    },
    {
      "cell_type": "code",
      "metadata": {
        "id": "tsJQJW9m1XeR"
      },
      "source": [
        "X_train, X_val, y_train, y_val = train_test_split(train_x, train_y, \n",
        "                                                    stratify=train_y, test_size=0.25,\n",
        "                                                    random_state = 10086)"
      ],
      "execution_count": 12,
      "outputs": []
    },
    {
      "cell_type": "code",
      "metadata": {
        "colab": {
          "base_uri": "https://localhost:8080/"
        },
        "id": "uH85-sQF6sQ2",
        "outputId": "1c831a1b-3054-4ad0-9b75-6086cb55e2e1"
      },
      "source": [
        "from sklearn.model_selection import GridSearchCV\n",
        "params = { 'n_estimators' : [100, 500],\n",
        "           'max_depth' : [6, 8, 10],\n",
        "           'min_samples_leaf' : [2,4,8],\n",
        "           'min_samples_split' : [4,8,12],\n",
        "           'max_features' : ['auto']\n",
        "            }\n",
        "model = RandomForestClassifier(random_state = 0, n_jobs = -1)\n",
        "grid_cv = GridSearchCV(model, param_grid = params, cv = 3, n_jobs = -1)\n",
        "grid_cv.fit(X_train, y_train)\n",
        "print('최적 하이퍼 파라미터: ', grid_cv.best_params_)"
      ],
      "execution_count": 16,
      "outputs": [
        {
          "output_type": "stream",
          "text": [
            "/usr/local/lib/python3.7/dist-packages/sklearn/model_selection/_search.py:739: DataConversionWarning: A column-vector y was passed when a 1d array was expected. Please change the shape of y to (n_samples,), for example using ravel().\n",
            "  self.best_estimator_.fit(X, y, **fit_params)\n"
          ],
          "name": "stderr"
        },
        {
          "output_type": "stream",
          "text": [
            "최적 하이퍼 파라미터:  {'max_depth': 10, 'max_features': 'auto', 'min_samples_leaf': 2, 'min_samples_split': 4, 'n_estimators': 100}\n"
          ],
          "name": "stdout"
        }
      ]
    },
    {
      "cell_type": "code",
      "metadata": {
        "id": "ON06Ur1d72wL"
      },
      "source": [
        "cv_model = RandomForestClassifier(n_estimators = 500, \n",
        "                                max_depth = 10,\n",
        "                                max_features = 'auto',\n",
        "                                min_samples_leaf = 2,\n",
        "                                min_samples_split = 4,\n",
        "                                random_state = 0,\n",
        "                                n_jobs = -1)"
      ],
      "execution_count": 17,
      "outputs": []
    },
    {
      "cell_type": "code",
      "metadata": {
        "id": "BnzzhRq5-Rri",
        "colab": {
          "base_uri": "https://localhost:8080/"
        },
        "outputId": "2acbacc4-e280-4f5b-8f75-45f7b6fbb3f6"
      },
      "source": [
        "from tensorflow.keras.utils import to_categorical\n",
        "\n",
        "folds = StratifiedKFold(n_splits=5, shuffle=True, random_state=55)\n",
        "\n",
        "sub=np.zeros((test_x.shape[0], 3))  \n",
        "logloss_scores = []\n",
        "model = cv_model\n",
        "for n_fold, (train_index, val_index) in enumerate(folds.split(train_x, train_y)):\n",
        "    X_train, X_val = train_x.iloc[train_index], train_x.iloc[val_index]\n",
        "    y_train, y_val = train_y.iloc[train_index], train_y.iloc[val_index]\n",
        "    model.fit(X_train, y_train)\n",
        "\n",
        "    predictions=model.predict_proba(X_val)\n",
        "    \n",
        "    logloss=log_loss(to_categorical(y_val['credit']), predictions)\n",
        "    logloss_scores.append(logloss)\n",
        "    print(f\"FOLD {n_fold} : logloss:{logloss}\")\n",
        "    sub+=model.predict_proba(test_x)\n",
        "    \n",
        "mean_outcome=np.mean(logloss_scores)\n",
        "print(\"Mean:{}\".format(mean_outcome))\n",
        "my_submission=sub/folds.n_splits\n"
      ],
      "execution_count": 18,
      "outputs": [
        {
          "output_type": "stream",
          "text": [
            "/usr/local/lib/python3.7/dist-packages/ipykernel_launcher.py:11: DataConversionWarning: A column-vector y was passed when a 1d array was expected. Please change the shape of y to (n_samples,), for example using ravel().\n",
            "  # This is added back by InteractiveShellApp.init_path()\n"
          ],
          "name": "stderr"
        },
        {
          "output_type": "stream",
          "text": [
            "FOLD 0 : logloss:0.796905409731399\n"
          ],
          "name": "stdout"
        },
        {
          "output_type": "stream",
          "text": [
            "/usr/local/lib/python3.7/dist-packages/ipykernel_launcher.py:11: DataConversionWarning: A column-vector y was passed when a 1d array was expected. Please change the shape of y to (n_samples,), for example using ravel().\n",
            "  # This is added back by InteractiveShellApp.init_path()\n"
          ],
          "name": "stderr"
        },
        {
          "output_type": "stream",
          "text": [
            "FOLD 1 : logloss:0.7950316471543042\n"
          ],
          "name": "stdout"
        },
        {
          "output_type": "stream",
          "text": [
            "/usr/local/lib/python3.7/dist-packages/ipykernel_launcher.py:11: DataConversionWarning: A column-vector y was passed when a 1d array was expected. Please change the shape of y to (n_samples,), for example using ravel().\n",
            "  # This is added back by InteractiveShellApp.init_path()\n"
          ],
          "name": "stderr"
        },
        {
          "output_type": "stream",
          "text": [
            "FOLD 2 : logloss:0.7954492070843666\n"
          ],
          "name": "stdout"
        },
        {
          "output_type": "stream",
          "text": [
            "/usr/local/lib/python3.7/dist-packages/ipykernel_launcher.py:11: DataConversionWarning: A column-vector y was passed when a 1d array was expected. Please change the shape of y to (n_samples,), for example using ravel().\n",
            "  # This is added back by InteractiveShellApp.init_path()\n"
          ],
          "name": "stderr"
        },
        {
          "output_type": "stream",
          "text": [
            "FOLD 3 : logloss:0.7943526843791103\n"
          ],
          "name": "stdout"
        },
        {
          "output_type": "stream",
          "text": [
            "/usr/local/lib/python3.7/dist-packages/ipykernel_launcher.py:11: DataConversionWarning: A column-vector y was passed when a 1d array was expected. Please change the shape of y to (n_samples,), for example using ravel().\n",
            "  # This is added back by InteractiveShellApp.init_path()\n"
          ],
          "name": "stderr"
        },
        {
          "output_type": "stream",
          "text": [
            "FOLD 4 : logloss:0.7939629747885696\n",
            "Mean:0.79514038462755\n"
          ],
          "name": "stdout"
        }
      ]
    },
    {
      "cell_type": "code",
      "metadata": {
        "colab": {
          "base_uri": "https://localhost:8080/"
        },
        "id": "ZhtnQ4F_PINa",
        "outputId": "ec8d4bd5-0c81-40f6-cf5d-ae5d024c973e"
      },
      "source": [
        "submission.loc[:,1:]=my_submission"
      ],
      "execution_count": 19,
      "outputs": [
        {
          "output_type": "stream",
          "text": [
            "/usr/local/lib/python3.7/dist-packages/ipykernel_launcher.py:1: FutureWarning: Slicing a positional slice with .loc is not supported, and will raise TypeError in a future version.  Use .loc with labels or .iloc with positions instead.\n",
            "  \"\"\"Entry point for launching an IPython kernel.\n"
          ],
          "name": "stderr"
        }
      ]
    },
    {
      "cell_type": "code",
      "metadata": {
        "colab": {
          "base_uri": "https://localhost:8080/",
          "height": 399
        },
        "id": "31dyy9KVPIGx",
        "outputId": "2a93cb40-ae62-45ac-f588-42fdfe6c8854"
      },
      "source": [
        "submission"
      ],
      "execution_count": 20,
      "outputs": [
        {
          "output_type": "execute_result",
          "data": {
            "text/html": [
              "<div>\n",
              "<style scoped>\n",
              "    .dataframe tbody tr th:only-of-type {\n",
              "        vertical-align: middle;\n",
              "    }\n",
              "\n",
              "    .dataframe tbody tr th {\n",
              "        vertical-align: top;\n",
              "    }\n",
              "\n",
              "    .dataframe thead th {\n",
              "        text-align: right;\n",
              "    }\n",
              "</style>\n",
              "<table border=\"1\" class=\"dataframe\">\n",
              "  <thead>\n",
              "    <tr style=\"text-align: right;\">\n",
              "      <th></th>\n",
              "      <th>index</th>\n",
              "      <th>0</th>\n",
              "      <th>1</th>\n",
              "      <th>2</th>\n",
              "    </tr>\n",
              "  </thead>\n",
              "  <tbody>\n",
              "    <tr>\n",
              "      <th>0</th>\n",
              "      <td>26457</td>\n",
              "      <td>0.110083</td>\n",
              "      <td>0.189711</td>\n",
              "      <td>0.700206</td>\n",
              "    </tr>\n",
              "    <tr>\n",
              "      <th>1</th>\n",
              "      <td>26458</td>\n",
              "      <td>0.125512</td>\n",
              "      <td>0.183548</td>\n",
              "      <td>0.690940</td>\n",
              "    </tr>\n",
              "    <tr>\n",
              "      <th>2</th>\n",
              "      <td>26459</td>\n",
              "      <td>0.115596</td>\n",
              "      <td>0.200182</td>\n",
              "      <td>0.684222</td>\n",
              "    </tr>\n",
              "    <tr>\n",
              "      <th>3</th>\n",
              "      <td>26460</td>\n",
              "      <td>0.120987</td>\n",
              "      <td>0.170532</td>\n",
              "      <td>0.708482</td>\n",
              "    </tr>\n",
              "    <tr>\n",
              "      <th>4</th>\n",
              "      <td>26461</td>\n",
              "      <td>0.120304</td>\n",
              "      <td>0.182990</td>\n",
              "      <td>0.696706</td>\n",
              "    </tr>\n",
              "    <tr>\n",
              "      <th>...</th>\n",
              "      <td>...</td>\n",
              "      <td>...</td>\n",
              "      <td>...</td>\n",
              "      <td>...</td>\n",
              "    </tr>\n",
              "    <tr>\n",
              "      <th>9995</th>\n",
              "      <td>36452</td>\n",
              "      <td>0.121497</td>\n",
              "      <td>0.208575</td>\n",
              "      <td>0.669928</td>\n",
              "    </tr>\n",
              "    <tr>\n",
              "      <th>9996</th>\n",
              "      <td>36453</td>\n",
              "      <td>0.123939</td>\n",
              "      <td>0.229318</td>\n",
              "      <td>0.646743</td>\n",
              "    </tr>\n",
              "    <tr>\n",
              "      <th>9997</th>\n",
              "      <td>36454</td>\n",
              "      <td>0.091908</td>\n",
              "      <td>0.165504</td>\n",
              "      <td>0.742588</td>\n",
              "    </tr>\n",
              "    <tr>\n",
              "      <th>9998</th>\n",
              "      <td>36455</td>\n",
              "      <td>0.116550</td>\n",
              "      <td>0.182221</td>\n",
              "      <td>0.701229</td>\n",
              "    </tr>\n",
              "    <tr>\n",
              "      <th>9999</th>\n",
              "      <td>36456</td>\n",
              "      <td>0.118257</td>\n",
              "      <td>0.246000</td>\n",
              "      <td>0.635743</td>\n",
              "    </tr>\n",
              "  </tbody>\n",
              "</table>\n",
              "<p>10000 rows × 4 columns</p>\n",
              "</div>"
            ],
            "text/plain": [
              "      index         0         1         2\n",
              "0     26457  0.110083  0.189711  0.700206\n",
              "1     26458  0.125512  0.183548  0.690940\n",
              "2     26459  0.115596  0.200182  0.684222\n",
              "3     26460  0.120987  0.170532  0.708482\n",
              "4     26461  0.120304  0.182990  0.696706\n",
              "...     ...       ...       ...       ...\n",
              "9995  36452  0.121497  0.208575  0.669928\n",
              "9996  36453  0.123939  0.229318  0.646743\n",
              "9997  36454  0.091908  0.165504  0.742588\n",
              "9998  36455  0.116550  0.182221  0.701229\n",
              "9999  36456  0.118257  0.246000  0.635743\n",
              "\n",
              "[10000 rows x 4 columns]"
            ]
          },
          "metadata": {
            "tags": []
          },
          "execution_count": 20
        }
      ]
    },
    {
      "cell_type": "code",
      "metadata": {
        "id": "Yfln6RKphf6K"
      },
      "source": [
        "submission.to_csv('RandomForest_GridSearchCV_submission.csv', index=False)"
      ],
      "execution_count": 36,
      "outputs": []
    },
    {
      "cell_type": "code",
      "metadata": {
        "colab": {
          "base_uri": "https://localhost:8080/"
        },
        "id": "qJO-KPHFA89d",
        "outputId": "9b527a48-c984-46eb-935a-f272d63cb2ab"
      },
      "source": [
        "!pip install bayesian-optimization"
      ],
      "execution_count": 21,
      "outputs": [
        {
          "output_type": "stream",
          "text": [
            "Collecting bayesian-optimization\n",
            "  Downloading https://files.pythonhosted.org/packages/bb/7a/fd8059a3881d3ab37ac8f72f56b73937a14e8bb14a9733e68cc8b17dbe3c/bayesian-optimization-1.2.0.tar.gz\n",
            "Requirement already satisfied: numpy>=1.9.0 in /usr/local/lib/python3.7/dist-packages (from bayesian-optimization) (1.19.5)\n",
            "Requirement already satisfied: scipy>=0.14.0 in /usr/local/lib/python3.7/dist-packages (from bayesian-optimization) (1.4.1)\n",
            "Requirement already satisfied: scikit-learn>=0.18.0 in /usr/local/lib/python3.7/dist-packages (from bayesian-optimization) (0.22.2.post1)\n",
            "Requirement already satisfied: joblib>=0.11 in /usr/local/lib/python3.7/dist-packages (from scikit-learn>=0.18.0->bayesian-optimization) (1.0.1)\n",
            "Building wheels for collected packages: bayesian-optimization\n",
            "  Building wheel for bayesian-optimization (setup.py) ... \u001b[?25l\u001b[?25hdone\n",
            "  Created wheel for bayesian-optimization: filename=bayesian_optimization-1.2.0-cp37-none-any.whl size=11687 sha256=8d2c3f09dd2907cfc33edf00ab9fc4f3b29c6e981bba0c89092cd48be2b449c3\n",
            "  Stored in directory: /root/.cache/pip/wheels/5a/56/ae/e0e3c1fc1954dc3ec712e2df547235ed072b448094d8f94aec\n",
            "Successfully built bayesian-optimization\n",
            "Installing collected packages: bayesian-optimization\n",
            "Successfully installed bayesian-optimization-1.2.0\n"
          ],
          "name": "stdout"
        }
      ]
    },
    {
      "cell_type": "code",
      "metadata": {
        "id": "jrQE4bTtA7eg"
      },
      "source": [
        "from bayes_opt import BayesianOptimization"
      ],
      "execution_count": 22,
      "outputs": []
    },
    {
      "cell_type": "code",
      "metadata": {
        "id": "hIIQm4XYByWC"
      },
      "source": [
        "dtrain = xgb.DMatrix(X_train, y_train)"
      ],
      "execution_count": 23,
      "outputs": []
    },
    {
      "cell_type": "code",
      "metadata": {
        "id": "CKeZiOp7AAe_"
      },
      "source": [
        "def xgb_evaluate(n_estimators, max_depth, subsample, colsample_bytree, learning_rate):\n",
        "    params = {    \n",
        "                'nthread':-1, \n",
        "                'learning rate':learning_rate,\n",
        "                'max_depth': int(max_depth), \n",
        "                'n_estimators' : n_estimators,\n",
        "                'subsample': subsample,\n",
        "                'colsample_bytree': colsample_bytree, \n",
        "                'objective':'multi:softprob',\n",
        "                'num_class':3,\n",
        "                'eval_metric':'mlogloss',\n",
        "                'seed':2018,\n",
        "                'verbosity':1\n",
        "             }\n",
        "\n",
        "    cv_result = xgb.cv(params, dtrain, num_boost_round=50, nfold=5, early_stopping_rounds=50, seed=508)    \n",
        "\n",
        "    # 최적화로 사용할 metric 반환\n",
        "    # test-logloss-mean 값을 기준으로 마이너스 값이 출력 되므로 -1을 곱하여 return\n",
        "    return -1.0 * cv_result['test-mlogloss-mean'].iloc[-1]"
      ],
      "execution_count": 24,
      "outputs": []
    },
    {
      "cell_type": "code",
      "metadata": {
        "id": "eCfQZTebEPZU"
      },
      "source": [
        "xgb_bo = BayesianOptimization(xgb_evaluate, \n",
        "                              {\n",
        "                                'n_estimators' : (100,500),\n",
        "                                'max_depth': (4, 10),\n",
        "                                'subsample': (0.6, 1.0),\n",
        "                                'colsample_bytree' :(0.6, 1.0),\n",
        "                                'learning_rate': (0.01, 0.2)}\n",
        "                              )"
      ],
      "execution_count": 25,
      "outputs": []
    },
    {
      "cell_type": "code",
      "metadata": {
        "colab": {
          "base_uri": "https://localhost:8080/"
        },
        "id": "ccpyMDi5AAXY",
        "outputId": "b083cbfe-89b7-4ced-931e-f2e98f8dad98"
      },
      "source": [
        "xgb_bo.maximize(init_points=3, n_iter = 10, acq='ei', xi=0.1, random_state=409)"
      ],
      "execution_count": 26,
      "outputs": [
        {
          "output_type": "stream",
          "text": [
            "|   iter    |  target   | colsam... | learni... | max_depth | n_esti... | subsample |\n",
            "-------------------------------------------------------------------------------------\n",
            "| \u001b[0m 1       \u001b[0m | \u001b[0m-0.7732  \u001b[0m | \u001b[0m 0.8286  \u001b[0m | \u001b[0m 0.03641 \u001b[0m | \u001b[0m 5.108   \u001b[0m | \u001b[0m 493.9   \u001b[0m | \u001b[0m 0.7261  \u001b[0m |\n",
            "| \u001b[0m 2       \u001b[0m | \u001b[0m-0.7741  \u001b[0m | \u001b[0m 0.7156  \u001b[0m | \u001b[0m 0.1747  \u001b[0m | \u001b[0m 5.292   \u001b[0m | \u001b[0m 210.6   \u001b[0m | \u001b[0m 0.7464  \u001b[0m |\n",
            "| \u001b[95m 3       \u001b[0m | \u001b[95m-0.7714  \u001b[0m | \u001b[95m 0.8294  \u001b[0m | \u001b[95m 0.1165  \u001b[0m | \u001b[95m 5.431   \u001b[0m | \u001b[95m 220.4   \u001b[0m | \u001b[95m 0.6739  \u001b[0m |\n",
            "| \u001b[0m 4       \u001b[0m | \u001b[0m-0.7723  \u001b[0m | \u001b[0m 0.6714  \u001b[0m | \u001b[0m 0.1317  \u001b[0m | \u001b[0m 5.821   \u001b[0m | \u001b[0m 343.3   \u001b[0m | \u001b[0m 0.8204  \u001b[0m |\n",
            "| \u001b[0m 5       \u001b[0m | \u001b[0m-0.783   \u001b[0m | \u001b[0m 0.8974  \u001b[0m | \u001b[0m 0.1068  \u001b[0m | \u001b[0m 4.426   \u001b[0m | \u001b[0m 408.7   \u001b[0m | \u001b[0m 0.7417  \u001b[0m |\n",
            "| \u001b[95m 6       \u001b[0m | \u001b[95m-0.7441  \u001b[0m | \u001b[95m 0.8274  \u001b[0m | \u001b[95m 0.02052 \u001b[0m | \u001b[95m 9.865   \u001b[0m | \u001b[95m 100.0   \u001b[0m | \u001b[95m 0.8487  \u001b[0m |\n",
            "| \u001b[0m 7       \u001b[0m | \u001b[0m-0.7498  \u001b[0m | \u001b[0m 0.7023  \u001b[0m | \u001b[0m 0.1303  \u001b[0m | \u001b[0m 7.244   \u001b[0m | \u001b[0m 101.5   \u001b[0m | \u001b[0m 0.8489  \u001b[0m |\n",
            "| \u001b[95m 8       \u001b[0m | \u001b[95m-0.7412  \u001b[0m | \u001b[95m 0.6307  \u001b[0m | \u001b[95m 0.08845 \u001b[0m | \u001b[95m 9.975   \u001b[0m | \u001b[95m 457.6   \u001b[0m | \u001b[95m 0.8066  \u001b[0m |\n",
            "| \u001b[0m 9       \u001b[0m | \u001b[0m-0.7573  \u001b[0m | \u001b[0m 0.9966  \u001b[0m | \u001b[0m 0.08031 \u001b[0m | \u001b[0m 9.878   \u001b[0m | \u001b[0m 142.0   \u001b[0m | \u001b[0m 0.6351  \u001b[0m |\n",
            "| \u001b[95m 10      \u001b[0m | \u001b[95m-0.7393  \u001b[0m | \u001b[95m 0.6201  \u001b[0m | \u001b[95m 0.0253  \u001b[0m | \u001b[95m 9.935   \u001b[0m | \u001b[95m 280.3   \u001b[0m | \u001b[95m 0.9031  \u001b[0m |\n",
            "| \u001b[0m 11      \u001b[0m | \u001b[0m-0.7432  \u001b[0m | \u001b[0m 0.7389  \u001b[0m | \u001b[0m 0.1503  \u001b[0m | \u001b[0m 9.991   \u001b[0m | \u001b[0m 499.1   \u001b[0m | \u001b[0m 0.7825  \u001b[0m |\n",
            "| \u001b[0m 12      \u001b[0m | \u001b[0m-0.7491  \u001b[0m | \u001b[0m 0.8427  \u001b[0m | \u001b[0m 0.08026 \u001b[0m | \u001b[0m 9.984   \u001b[0m | \u001b[0m 374.8   \u001b[0m | \u001b[0m 0.6849  \u001b[0m |\n",
            "| \u001b[0m 13      \u001b[0m | \u001b[0m-0.7614  \u001b[0m | \u001b[0m 0.9848  \u001b[0m | \u001b[0m 0.09571 \u001b[0m | \u001b[0m 6.001   \u001b[0m | \u001b[0m 314.6   \u001b[0m | \u001b[0m 0.8536  \u001b[0m |\n",
            "=====================================================================================\n"
          ],
          "name": "stdout"
        }
      ]
    },
    {
      "cell_type": "code",
      "metadata": {
        "colab": {
          "base_uri": "https://localhost:8080/"
        },
        "id": "mESmL0mkNwtg",
        "outputId": "a7231d13-d206-41db-b804-0f3c6e7b439f"
      },
      "source": [
        "params = xgb_bo.max['params']\n",
        "params['eval_metric'] = 'mlogloss'\n",
        "params['objective'] = 'multi:softprob'\n",
        "params['num_class'] = 3\n",
        "params['max_depth'] = round(params['max_depth'])\n",
        "params"
      ],
      "execution_count": 27,
      "outputs": [
        {
          "output_type": "execute_result",
          "data": {
            "text/plain": [
              "{'colsample_bytree': 0.6200720440008622,\n",
              " 'eval_metric': 'mlogloss',\n",
              " 'learning_rate': 0.025298816713304244,\n",
              " 'max_depth': 10,\n",
              " 'n_estimators': 280.2948419275243,\n",
              " 'num_class': 3,\n",
              " 'objective': 'multi:softprob',\n",
              " 'subsample': 0.9031134688939599}"
            ]
          },
          "metadata": {
            "tags": []
          },
          "execution_count": 27
        }
      ]
    },
    {
      "cell_type": "code",
      "metadata": {
        "colab": {
          "base_uri": "https://localhost:8080/"
        },
        "id": "PxiDXfksOHPB",
        "outputId": "8d15df05-b86a-49e6-e83d-68e00f9eabf8"
      },
      "source": [
        "model = xgb.cv(\n",
        "    params=params,\n",
        "    dtrain=dtrain,\n",
        "    num_boost_round=1000,\n",
        "    nfold=5,\n",
        "    early_stopping_rounds=50,\n",
        "    verbose_eval = 50\n",
        ")"
      ],
      "execution_count": 28,
      "outputs": [
        {
          "output_type": "stream",
          "text": [
            "[0]\ttrain-mlogloss:1.08699+0.000140309\ttest-mlogloss:1.0881+0.000204868\n",
            "[50]\ttrain-mlogloss:0.790243+0.00432326\ttest-mlogloss:0.84066+0.00590016\n",
            "[100]\ttrain-mlogloss:0.691858+0.00552703\ttest-mlogloss:0.784563+0.00825056\n",
            "[150]\ttrain-mlogloss:0.636707+0.00728794\ttest-mlogloss:0.764609+0.00926466\n",
            "[200]\ttrain-mlogloss:0.597157+0.00643381\ttest-mlogloss:0.753808+0.0102658\n",
            "[250]\ttrain-mlogloss:0.566186+0.00634954\ttest-mlogloss:0.747045+0.0106576\n",
            "[300]\ttrain-mlogloss:0.538678+0.00540828\ttest-mlogloss:0.742085+0.0114201\n",
            "[350]\ttrain-mlogloss:0.513411+0.00538342\ttest-mlogloss:0.737865+0.0115089\n",
            "[400]\ttrain-mlogloss:0.490518+0.00530283\ttest-mlogloss:0.734887+0.0114712\n",
            "[450]\ttrain-mlogloss:0.470214+0.00502366\ttest-mlogloss:0.732834+0.0117141\n",
            "[500]\ttrain-mlogloss:0.450983+0.00494096\ttest-mlogloss:0.731173+0.0116654\n",
            "[550]\ttrain-mlogloss:0.433044+0.00458541\ttest-mlogloss:0.730098+0.0119692\n",
            "[600]\ttrain-mlogloss:0.416926+0.0044116\ttest-mlogloss:0.729646+0.0121116\n",
            "[650]\ttrain-mlogloss:0.401263+0.0038256\ttest-mlogloss:0.729564+0.0124155\n"
          ],
          "name": "stdout"
        }
      ]
    },
    {
      "cell_type": "code",
      "metadata": {
        "colab": {
          "base_uri": "https://localhost:8080/"
        },
        "id": "Xmf8FodlONKm",
        "outputId": "6126ff84-4d8e-430e-9da7-2ea7ef1f857d"
      },
      "source": [
        "best_rounds = np.argmin(model['test-mlogloss-mean'])\n",
        "print(best_rounds)"
      ],
      "execution_count": 29,
      "outputs": [
        {
          "output_type": "stream",
          "text": [
            "646\n"
          ],
          "name": "stdout"
        }
      ]
    },
    {
      "cell_type": "code",
      "metadata": {
        "colab": {
          "base_uri": "https://localhost:8080/"
        },
        "id": "S8iG-HxSORyg",
        "outputId": "973a84db-6b09-488f-b7eb-056a3b87e080"
      },
      "source": [
        "logloss_scores = []\n",
        "for n_fold, (train_index, val_index) in enumerate(folds.split(train_x, train_y)):\n",
        "    print(f'===================================={n_fold+1}============================================')\n",
        "    X_train, X_val = train_x.iloc[train_index], train_x.iloc[val_index]\n",
        "    y_train, y_val = train_y.iloc[train_index], train_y.iloc[val_index]\n",
        "\n",
        "    d_train = xgb.DMatrix(X_train, y_train)\n",
        "    d_val = xgb.DMatrix(data=X_val)\n",
        "    \n",
        "\n",
        "    xgb_model = xgb.train(params, d_train, num_boost_round=best_rounds)\n",
        "\n",
        "    predictions=xgb_model.predict(d_val)\n",
        "    \n",
        "    logloss=log_loss(y_val, predictions)\n",
        "    logloss_scores.append(logloss)\n",
        "    print(f\"FOLD {n_fold} : logloss:{logloss}\")\n",
        "    print(f'================================================================================\\n\\n')\n",
        "        \n",
        "mean_outcome=np.mean(logloss_scores)\n",
        "\n",
        "print(\"Mean:{}\".format(mean_outcome))"
      ],
      "execution_count": 30,
      "outputs": [
        {
          "output_type": "stream",
          "text": [
            "====================================1============================================\n",
            "FOLD 0 : logloss:0.7190534332781208\n",
            "================================================================================\n",
            "\n",
            "\n",
            "====================================2============================================\n",
            "FOLD 1 : logloss:0.7125755582022032\n",
            "================================================================================\n",
            "\n",
            "\n",
            "====================================3============================================\n",
            "FOLD 2 : logloss:0.7145183553330937\n",
            "================================================================================\n",
            "\n",
            "\n",
            "====================================4============================================\n",
            "FOLD 3 : logloss:0.7024229730962946\n",
            "================================================================================\n",
            "\n",
            "\n",
            "====================================5============================================\n",
            "FOLD 4 : logloss:0.7093731681191409\n",
            "================================================================================\n",
            "\n",
            "\n",
            "Mean:0.7115886976057706\n"
          ],
          "name": "stdout"
        }
      ]
    },
    {
      "cell_type": "code",
      "metadata": {
        "colab": {
          "base_uri": "https://localhost:8080/"
        },
        "id": "Lqj2CVs_ORuL",
        "outputId": "38139e9f-3c5e-41f6-d73b-457d066dd5b7"
      },
      "source": [
        "d_test = xgb.DMatrix(data=test_x)\n",
        "pred_y = xgb_model.predict(d_test)\n",
        "print(pred_y)"
      ],
      "execution_count": 31,
      "outputs": [
        {
          "output_type": "stream",
          "text": [
            "[[0.05161909 0.08977251 0.85860837]\n",
            " [0.2508247  0.16028404 0.58889127]\n",
            " [0.07112662 0.10877507 0.82009834]\n",
            " ...\n",
            " [0.01904378 0.11945664 0.8614996 ]\n",
            " [0.08802568 0.2527304  0.6592439 ]\n",
            " [0.0600154  0.20121184 0.73877275]]\n"
          ],
          "name": "stdout"
        }
      ]
    },
    {
      "cell_type": "code",
      "metadata": {
        "colab": {
          "base_uri": "https://localhost:8080/"
        },
        "id": "YKNMZb3JORne",
        "outputId": "b8b90148-1ed1-40b4-9121-3360dba1147e"
      },
      "source": [
        "submission2.loc[:,1:]=pred_y"
      ],
      "execution_count": 32,
      "outputs": [
        {
          "output_type": "stream",
          "text": [
            "/usr/local/lib/python3.7/dist-packages/ipykernel_launcher.py:1: FutureWarning: Slicing a positional slice with .loc is not supported, and will raise TypeError in a future version.  Use .loc with labels or .iloc with positions instead.\n",
            "  \"\"\"Entry point for launching an IPython kernel.\n"
          ],
          "name": "stderr"
        }
      ]
    },
    {
      "cell_type": "code",
      "metadata": {
        "colab": {
          "base_uri": "https://localhost:8080/",
          "height": 399
        },
        "id": "VaMr-eYoAAR-",
        "outputId": "0d4710d0-f3e7-4e4c-c458-08ace922a20a"
      },
      "source": [
        "submission2"
      ],
      "execution_count": 33,
      "outputs": [
        {
          "output_type": "execute_result",
          "data": {
            "text/html": [
              "<div>\n",
              "<style scoped>\n",
              "    .dataframe tbody tr th:only-of-type {\n",
              "        vertical-align: middle;\n",
              "    }\n",
              "\n",
              "    .dataframe tbody tr th {\n",
              "        vertical-align: top;\n",
              "    }\n",
              "\n",
              "    .dataframe thead th {\n",
              "        text-align: right;\n",
              "    }\n",
              "</style>\n",
              "<table border=\"1\" class=\"dataframe\">\n",
              "  <thead>\n",
              "    <tr style=\"text-align: right;\">\n",
              "      <th></th>\n",
              "      <th>index</th>\n",
              "      <th>0</th>\n",
              "      <th>1</th>\n",
              "      <th>2</th>\n",
              "    </tr>\n",
              "  </thead>\n",
              "  <tbody>\n",
              "    <tr>\n",
              "      <th>0</th>\n",
              "      <td>26457</td>\n",
              "      <td>0.051619</td>\n",
              "      <td>0.089773</td>\n",
              "      <td>0.858608</td>\n",
              "    </tr>\n",
              "    <tr>\n",
              "      <th>1</th>\n",
              "      <td>26458</td>\n",
              "      <td>0.250825</td>\n",
              "      <td>0.160284</td>\n",
              "      <td>0.588891</td>\n",
              "    </tr>\n",
              "    <tr>\n",
              "      <th>2</th>\n",
              "      <td>26459</td>\n",
              "      <td>0.071127</td>\n",
              "      <td>0.108775</td>\n",
              "      <td>0.820098</td>\n",
              "    </tr>\n",
              "    <tr>\n",
              "      <th>3</th>\n",
              "      <td>26460</td>\n",
              "      <td>0.132598</td>\n",
              "      <td>0.122697</td>\n",
              "      <td>0.744705</td>\n",
              "    </tr>\n",
              "    <tr>\n",
              "      <th>4</th>\n",
              "      <td>26461</td>\n",
              "      <td>0.084599</td>\n",
              "      <td>0.150810</td>\n",
              "      <td>0.764592</td>\n",
              "    </tr>\n",
              "    <tr>\n",
              "      <th>...</th>\n",
              "      <td>...</td>\n",
              "      <td>...</td>\n",
              "      <td>...</td>\n",
              "      <td>...</td>\n",
              "    </tr>\n",
              "    <tr>\n",
              "      <th>9995</th>\n",
              "      <td>36452</td>\n",
              "      <td>0.174260</td>\n",
              "      <td>0.174349</td>\n",
              "      <td>0.651391</td>\n",
              "    </tr>\n",
              "    <tr>\n",
              "      <th>9996</th>\n",
              "      <td>36453</td>\n",
              "      <td>0.223710</td>\n",
              "      <td>0.314356</td>\n",
              "      <td>0.461934</td>\n",
              "    </tr>\n",
              "    <tr>\n",
              "      <th>9997</th>\n",
              "      <td>36454</td>\n",
              "      <td>0.019044</td>\n",
              "      <td>0.119457</td>\n",
              "      <td>0.861500</td>\n",
              "    </tr>\n",
              "    <tr>\n",
              "      <th>9998</th>\n",
              "      <td>36455</td>\n",
              "      <td>0.088026</td>\n",
              "      <td>0.252730</td>\n",
              "      <td>0.659244</td>\n",
              "    </tr>\n",
              "    <tr>\n",
              "      <th>9999</th>\n",
              "      <td>36456</td>\n",
              "      <td>0.060015</td>\n",
              "      <td>0.201212</td>\n",
              "      <td>0.738773</td>\n",
              "    </tr>\n",
              "  </tbody>\n",
              "</table>\n",
              "<p>10000 rows × 4 columns</p>\n",
              "</div>"
            ],
            "text/plain": [
              "      index         0         1         2\n",
              "0     26457  0.051619  0.089773  0.858608\n",
              "1     26458  0.250825  0.160284  0.588891\n",
              "2     26459  0.071127  0.108775  0.820098\n",
              "3     26460  0.132598  0.122697  0.744705\n",
              "4     26461  0.084599  0.150810  0.764592\n",
              "...     ...       ...       ...       ...\n",
              "9995  36452  0.174260  0.174349  0.651391\n",
              "9996  36453  0.223710  0.314356  0.461934\n",
              "9997  36454  0.019044  0.119457  0.861500\n",
              "9998  36455  0.088026  0.252730  0.659244\n",
              "9999  36456  0.060015  0.201212  0.738773\n",
              "\n",
              "[10000 rows x 4 columns]"
            ]
          },
          "metadata": {
            "tags": []
          },
          "execution_count": 33
        }
      ]
    },
    {
      "cell_type": "code",
      "metadata": {
        "id": "vE7Y8xb9AggT"
      },
      "source": [
        "submission2.to_csv('XGBoost_BayesianOptimization_submission.csv', index=False)"
      ],
      "execution_count": 35,
      "outputs": []
    }
  ]
}